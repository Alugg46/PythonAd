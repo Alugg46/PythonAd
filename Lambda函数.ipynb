{
 "cells": [
  {
   "cell_type": "markdown",
   "id": "df53913c",
   "metadata": {},
   "source": [
    "# lambda函数使用"
   ]
  },
  {
   "cell_type": "code",
   "execution_count": 1,
   "id": "998e5ca4",
   "metadata": {},
   "outputs": [
    {
     "data": {
      "text/plain": [
       "6"
      ]
     },
     "execution_count": 1,
     "metadata": {},
     "output_type": "execute_result"
    }
   ],
   "source": [
    "def add(x):\n",
    "    return x+1\n",
    "\n",
    "add(5)"
   ]
  },
  {
   "cell_type": "code",
   "execution_count": 2,
   "id": "87f9d75a",
   "metadata": {},
   "outputs": [
    {
     "data": {
      "text/plain": [
       "<function __main__.<lambda>(x)>"
      ]
     },
     "execution_count": 2,
     "metadata": {},
     "output_type": "execute_result"
    }
   ],
   "source": [
    "lambda x: x+1"
   ]
  },
  {
   "cell_type": "code",
   "execution_count": 3,
   "id": "c2ef3d1b",
   "metadata": {},
   "outputs": [
    {
     "data": {
      "text/plain": [
       "6"
      ]
     },
     "execution_count": 3,
     "metadata": {},
     "output_type": "execute_result"
    }
   ],
   "source": [
    "_(5)"
   ]
  },
  {
   "attachments": {
    "image.png": {
     "image/png": "[encoded data removed]"
    }
   },
   "cell_type": "markdown",
   "id": "36a0adad",
   "metadata": {},
   "source": [
    "![image.png](attachment:image.png)"
   ]
  },
  {
   "cell_type": "code",
   "execution_count": 4,
   "id": "1c060562",
   "metadata": {},
   "outputs": [
    {
     "data": {
      "text/plain": [
       "3"
      ]
     },
     "execution_count": 4,
     "metadata": {},
     "output_type": "execute_result"
    }
   ],
   "source": [
    "def add(x, y):\n",
    "    return x+y\n",
    "\n",
    "add(1,2)"
   ]
  },
  {
   "cell_type": "code",
   "execution_count": 6,
   "id": "b2964784",
   "metadata": {},
   "outputs": [
    {
     "name": "stdout",
     "output_type": "stream",
     "text": [
      "(2, 3)\n"
     ]
    }
   ],
   "source": [
    "(lambda *args: print(args))(2,3) #在后面添加括号传参"
   ]
  },
  {
   "cell_type": "markdown",
   "id": "a9ca0f26",
   "metadata": {},
   "source": [
    "往往我们在根据一定规则生成一些列表数据的时候，我们就会这样使用"
   ]
  },
  {
   "cell_type": "code",
   "execution_count": 8,
   "id": "f5f9ea19",
   "metadata": {},
   "outputs": [
    {
     "data": {
      "text/plain": [
       "[0, 1, 0, 1, 0, 1, 0, 1, 0, 1]"
      ]
     },
     "execution_count": 8,
     "metadata": {},
     "output_type": "execute_result"
    }
   ],
   "source": [
    "my_list = [(lambda x: x%2)(x) for x in range(10)]\n",
    "my_list"
   ]
  },
  {
   "cell_type": "code",
   "execution_count": 9,
   "id": "6980ed8a",
   "metadata": {},
   "outputs": [
    {
     "name": "stdout",
     "output_type": "stream",
     "text": [
      "[0, 1, 0, 1, 0, 1, 0, 1, 0, 1]\n"
     ]
    }
   ],
   "source": [
    "#有名函数\n",
    "def get_list():\n",
    "    my_list = []\n",
    "    for x in range(10):\n",
    "        my_list.append(x%2)\n",
    "    return my_list\n",
    "print(get_list())"
   ]
  },
  {
   "cell_type": "code",
   "execution_count": 10,
   "id": "0d100090",
   "metadata": {},
   "outputs": [
    {
     "name": "stdout",
     "output_type": "stream",
     "text": [
      "[0, 1, 0, 1, 0, 1, 0, 1, 0, 1]\n"
     ]
    }
   ],
   "source": [
    "#无名函数\n",
    "print([(lambda x: x%2)(x) for x in range(10)])"
   ]
  },
  {
   "cell_type": "code",
   "execution_count": 11,
   "id": "3d9e9c82",
   "metadata": {},
   "outputs": [
    {
     "name": "stdout",
     "output_type": "stream",
     "text": [
      "3\n"
     ]
    }
   ],
   "source": [
    "add = lambda x,y : x+y\n",
    "print(add(1,2))"
   ]
  },
  {
   "cell_type": "code",
   "execution_count": 3,
   "id": "336d9794",
   "metadata": {},
   "outputs": [],
   "source": [
    "my_list1 = [(lambda x: x*2)(x) for x in range(10) ]\n",
    "\n"
   ]
  },
  {
   "cell_type": "markdown",
   "id": "316e4511",
   "metadata": {},
   "source": [
    "# 精彩使用"
   ]
  },
  {
   "cell_type": "markdown",
   "id": "70f3f2bd",
   "metadata": {},
   "source": [
    "## map"
   ]
  },
  {
   "cell_type": "markdown",
   "id": "8f60d578",
   "metadata": {},
   "source": [
    "map函数：map(函数对象, 序列), 也就是说，它可以传入两个参数，第一个可以传入函数，第二个传入序列。当执行这个 map 函数的时候，序列里面的值每个都会被取出来，然后拿去执行传入的"
   ]
  },
  {
   "cell_type": "code",
   "execution_count": 12,
   "id": "da743120",
   "metadata": {},
   "outputs": [
    {
     "name": "stdout",
     "output_type": "stream",
     "text": [
      "[6, 7, 8, 9, 10, 11, 12, 13, 14, 15]\n"
     ]
    }
   ],
   "source": [
    "my_list = [1,2,3,4,5,6,7,8,9,10]\n",
    "def add(x):\n",
    "    return x+5\n",
    "\n",
    "print(list(map(add, my_list)))"
   ]
  },
  {
   "cell_type": "markdown",
   "id": "06d7cf3a",
   "metadata": {},
   "source": [
    "my_list值遍历，传给add"
   ]
  },
  {
   "cell_type": "code",
   "execution_count": 16,
   "id": "6668ed7f",
   "metadata": {},
   "outputs": [
    {
     "name": "stdout",
     "output_type": "stream",
     "text": [
      "[6, 7, 8, 9, 10, 11, 12, 13, 14, 15]\n"
     ]
    }
   ],
   "source": [
    "my_list = [1,2,3,4,5,6,7,8,9,10]\n",
    "\n",
    "print(list(map(lambda x:x+5, my_list)))"
   ]
  },
  {
   "cell_type": "markdown",
   "id": "659922e0",
   "metadata": {},
   "source": [
    "## Filter"
   ]
  },
  {
   "cell_type": "markdown",
   "id": "f4909e4a",
   "metadata": {},
   "source": [
    "多用于判断"
   ]
  },
  {
   "cell_type": "code",
   "execution_count": 17,
   "id": "7214a2e8",
   "metadata": {},
   "outputs": [
    {
     "name": "stdout",
     "output_type": "stream",
     "text": [
      "[2, 4, 6, 8, 10]\n"
     ]
    }
   ],
   "source": [
    "my_list = [1,2,3,4,5,6,7,8,9,10]\n",
    "print(list(filter(lambda x:x%2==0, my_list)))"
   ]
  },
  {
   "cell_type": "code",
   "execution_count": null,
   "id": "5c0b3b6a",
   "metadata": {},
   "outputs": [],
   "source": []
  }
 ],
 "metadata": {
  "kernelspec": {
   "display_name": "Python 3 (ipykernel)",
   "language": "python",
   "name": "python3"
  },
  "language_info": {
   "codemirror_mode": {
    "name": "ipython",
    "version": 3
   },
   "file_extension": ".py",
   "mimetype": "text/x-python",
   "name": "python",
   "nbconvert_exporter": "python",
   "pygments_lexer": "ipython3",
   "version": "3.9.7"
  },
  "toc": {
   "base_numbering": 1,
   "nav_menu": {},
   "number_sections": true,
   "sideBar": true,
   "skip_h1_title": false,
   "title_cell": "Table of Contents",
   "title_sidebar": "Contents",
   "toc_cell": false,
   "toc_position": {},
   "toc_section_display": true,
   "toc_window_display": false
  },
  "varInspector": {
   "cols": {
    "lenName": 16,
    "lenType": 16,
    "lenVar": 40
   },
   "kernels_config": {
    "python": {
     "delete_cmd_postfix": "",
     "delete_cmd_prefix": "del ",
     "library": "var_list.py",
     "varRefreshCmd": "print(var_dic_list())"
    },
    "r": {
     "delete_cmd_postfix": ") ",
     "delete_cmd_prefix": "rm(",
     "library": "var_list.r",
     "varRefreshCmd": "cat(var_dic_list()) "
    }
   },
   "types_to_exclude": [
    "module",
    "function",
    "builtin_function_or_method",
    "instance",
    "_Feature"
   ],
   "window_display": false
  }
 },
 "nbformat": 4,
 "nbformat_minor": 5
}
