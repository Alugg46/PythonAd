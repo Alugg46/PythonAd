{
 "cells": [
  {
   "cell_type": "markdown",
   "id": "aa42d197",
   "metadata": {},
   "source": [
    "# Dict set"
   ]
  },
  {
   "cell_type": "markdown",
   "id": "755fe51f",
   "metadata": {},
   "source": [
    "## 基本操作"
   ]
  },
  {
   "cell_type": "code",
   "execution_count": 2,
   "id": "dd2ebf21",
   "metadata": {},
   "outputs": [],
   "source": [
    "d1 = {\"name\":\"ALU\",\"age\":15,\"gender\":\"male\"}"
   ]
  },
  {
   "cell_type": "code",
   "execution_count": 3,
   "id": "922b3163",
   "metadata": {},
   "outputs": [],
   "source": [
    "s1 = {1,\"alu\",\"gg\"}"
   ]
  },
  {
   "cell_type": "code",
   "execution_count": 4,
   "id": "3f6676e2",
   "metadata": {},
   "outputs": [
    {
     "data": {
      "text/plain": [
       "'ALU'"
      ]
     },
     "execution_count": 4,
     "metadata": {},
     "output_type": "execute_result"
    }
   ],
   "source": [
    "d1[\"name\"]"
   ]
  },
  {
   "cell_type": "code",
   "execution_count": 7,
   "id": "a143d140",
   "metadata": {},
   "outputs": [
    {
     "data": {
      "text/plain": [
       "'ALU'"
      ]
     },
     "execution_count": 7,
     "metadata": {},
     "output_type": "execute_result"
    }
   ],
   "source": [
    "d1.get(\"name\")"
   ]
  },
  {
   "cell_type": "code",
   "execution_count": 8,
   "id": "e4edfc4c",
   "metadata": {},
   "outputs": [
    {
     "data": {
      "text/plain": [
       "True"
      ]
     },
     "execution_count": 8,
     "metadata": {},
     "output_type": "execute_result"
    }
   ],
   "source": [
    "1 in s1"
   ]
  },
  {
   "cell_type": "code",
   "execution_count": 10,
   "id": "079028eb",
   "metadata": {},
   "outputs": [
    {
     "data": {
      "text/plain": [
       "True"
      ]
     },
     "execution_count": 10,
     "metadata": {},
     "output_type": "execute_result"
    }
   ],
   "source": [
    "\"alu\" in s1"
   ]
  },
  {
   "cell_type": "markdown",
   "id": "cf81d400",
   "metadata": {},
   "source": [
    "## 增减"
   ]
  },
  {
   "cell_type": "code",
   "execution_count": 11,
   "id": "ee18902c",
   "metadata": {},
   "outputs": [],
   "source": [
    "d1[\"height\"] = 1.5"
   ]
  },
  {
   "cell_type": "code",
   "execution_count": 12,
   "id": "3ef85a47",
   "metadata": {},
   "outputs": [
    {
     "data": {
      "text/plain": [
       "{'name': 'ALU', 'age': 15, 'gender': 'male', 'height': 1.5}"
      ]
     },
     "execution_count": 12,
     "metadata": {},
     "output_type": "execute_result"
    }
   ],
   "source": [
    "d1"
   ]
  },
  {
   "cell_type": "code",
   "execution_count": 13,
   "id": "b9a34831",
   "metadata": {},
   "outputs": [
    {
     "data": {
      "text/plain": [
       "1.5"
      ]
     },
     "execution_count": 13,
     "metadata": {},
     "output_type": "execute_result"
    }
   ],
   "source": [
    "d1.pop(\"height\")"
   ]
  },
  {
   "cell_type": "code",
   "execution_count": 14,
   "id": "1884aaf9",
   "metadata": {},
   "outputs": [
    {
     "data": {
      "text/plain": [
       "{'name': 'ALU', 'age': 15, 'gender': 'male'}"
      ]
     },
     "execution_count": 14,
     "metadata": {},
     "output_type": "execute_result"
    }
   ],
   "source": [
    "d1"
   ]
  },
  {
   "cell_type": "code",
   "execution_count": 15,
   "id": "a925b61f",
   "metadata": {},
   "outputs": [],
   "source": [
    "s1.add(2)"
   ]
  },
  {
   "cell_type": "code",
   "execution_count": 17,
   "id": "2df389a1",
   "metadata": {},
   "outputs": [],
   "source": [
    "s1.remove(\"alu\")"
   ]
  },
  {
   "cell_type": "code",
   "execution_count": 18,
   "id": "fe01f7b5",
   "metadata": {},
   "outputs": [
    {
     "data": {
      "text/plain": [
       "{1, 2, 'gg'}"
      ]
     },
     "execution_count": 18,
     "metadata": {},
     "output_type": "execute_result"
    }
   ],
   "source": [
    "s1"
   ]
  },
  {
   "cell_type": "markdown",
   "id": "718c5895",
   "metadata": {},
   "source": [
    "## 排序"
   ]
  },
  {
   "cell_type": "code",
   "execution_count": 19,
   "id": "c9a6992c",
   "metadata": {},
   "outputs": [],
   "source": [
    "d = {\"b\":1,\"a\":2,\"c\":5}"
   ]
  },
  {
   "cell_type": "code",
   "execution_count": 20,
   "id": "cbae86a6",
   "metadata": {},
   "outputs": [],
   "source": [
    "d_sorted_by_key = sorted(d.items(),key=lambda x:x[0])\n",
    "d_sorted_by_value = sorted(d.items(),key=lambda x:x[1])"
   ]
  },
  {
   "cell_type": "code",
   "execution_count": 21,
   "id": "8ada4aaa",
   "metadata": {},
   "outputs": [
    {
     "data": {
      "text/plain": [
       "[('a', 2), ('b', 1), ('c', 5)]"
      ]
     },
     "execution_count": 21,
     "metadata": {},
     "output_type": "execute_result"
    }
   ],
   "source": [
    "d_sorted_by_key"
   ]
  },
  {
   "cell_type": "code",
   "execution_count": 22,
   "id": "e51e162f",
   "metadata": {},
   "outputs": [
    {
     "data": {
      "text/plain": [
       "[('b', 1), ('a', 2), ('c', 5)]"
      ]
     },
     "execution_count": 22,
     "metadata": {},
     "output_type": "execute_result"
    }
   ],
   "source": [
    "d_sorted_by_value"
   ]
  },
  {
   "cell_type": "code",
   "execution_count": 23,
   "id": "608745b1",
   "metadata": {},
   "outputs": [],
   "source": [
    "s= {3,2,5,4,1}"
   ]
  },
  {
   "cell_type": "code",
   "execution_count": 24,
   "id": "e89931f4",
   "metadata": {},
   "outputs": [
    {
     "data": {
      "text/plain": [
       "[1, 2, 3, 4, 5]"
      ]
     },
     "execution_count": 24,
     "metadata": {},
     "output_type": "execute_result"
    }
   ],
   "source": [
    "sorted(s)"
   ]
  },
  {
   "cell_type": "markdown",
   "id": "8d88a5a1",
   "metadata": {},
   "source": [
    "# String"
   ]
  },
  {
   "cell_type": "code",
   "execution_count": 1,
   "id": "6791dc23",
   "metadata": {},
   "outputs": [],
   "source": [
    "name = 'lu'\n",
    "city = \"hello\"\n",
    "s3 = \"\"\"hello\"\"\""
   ]
  },
  {
   "cell_type": "code",
   "execution_count": 2,
   "id": "c1731bfe",
   "metadata": {},
   "outputs": [],
   "source": [
    "s5 = \"I'm student\""
   ]
  },
  {
   "cell_type": "code",
   "execution_count": 3,
   "id": "91b88a1c",
   "metadata": {},
   "outputs": [],
   "source": [
    "def cal(item1,item2):\n",
    "    \"\"\"\n",
    "    Calculate similarity between two items\n",
    "    Args:\n",
    "    item1: 1st item\n",
    "    item2: 2nd item\n",
    "    \"\"\""
   ]
  },
  {
   "cell_type": "code",
   "execution_count": 5,
   "id": "b0f35cf3",
   "metadata": {},
   "outputs": [
    {
     "data": {
      "text/plain": [
       "'ads'"
      ]
     },
     "execution_count": 5,
     "metadata": {},
     "output_type": "execute_result"
    }
   ],
   "source": [
    "path = 'hive://ads/training_table'\n",
    "namespace = path.split('//')[1].split('/')[0]\n",
    "namespace"
   ]
  },
  {
   "cell_type": "markdown",
   "id": "aedade23",
   "metadata": {},
   "source": [
    "# Input and output"
   ]
  },
  {
   "cell_type": "code",
   "execution_count": 7,
   "id": "3baa2d23",
   "metadata": {},
   "outputs": [],
   "source": [
    "import json\n",
    "\n",
    "params = {\n",
    "    'symbol':'1234',\n",
    "    'type':'limit',\n",
    "    'price':123.4,\n",
    "    'amout':23\n",
    "}"
   ]
  },
  {
   "cell_type": "code",
   "execution_count": 13,
   "id": "afc71c3f",
   "metadata": {},
   "outputs": [
    {
     "name": "stdout",
     "output_type": "stream",
     "text": [
      "after json serialization\n",
      "type of params_str=<class 'str'>,paras_str={\"symbol\": \"1234\", \"type\": \"limit\", \"price\": 123.4, \"amout\": 23}\n",
      "after json deserialization\n",
      "type of original_params = <class 'dict'>, original_params = {'symbol': '1234', 'type': 'limit', 'price': 123.4, 'amout': 23}\n"
     ]
    }
   ],
   "source": [
    "params_str = json.dumps(params)\n",
    "\n",
    "print('after json serialization')\n",
    "print('type of params_str={},paras_str={}'.format(type(params_str),params_str))\n",
    "\n",
    "original_params = json.loads(params_str)\n",
    "\n",
    "print('after json deserialization')\n",
    "print('type of original_params = {}, original_params = {}'.format(type(original_params),original_params))"
   ]
  },
  {
   "attachments": {
    "image.png": {
     "image/png": "[encoded data removed]"
    }
   },
   "cell_type": "markdown",
   "id": "435052f6",
   "metadata": {},
   "source": [
    "![image.png](attachment:image.png)"
   ]
  },
  {
   "cell_type": "markdown",
   "id": "6b854d2b",
   "metadata": {},
   "source": [
    "## 读取Json文件"
   ]
  },
  {
   "cell_type": "code",
   "execution_count": 17,
   "id": "c8e06806",
   "metadata": {},
   "outputs": [
    {
     "name": "stdout",
     "output_type": "stream",
     "text": [
      "after json deserialization\n",
      "type of original_params = <class 'dict'>, original_params = {'symbol': '123456', 'type': 'limit', 'price': 123.4, 'amount': 23}\n"
     ]
    }
   ],
   "source": [
    "import json\n",
    "params = {\n",
    " 'symbol':'123456',\n",
    " 'type': 'limit',\n",
    " 'price': 123.4,\n",
    " 'amount': 23\n",
    "}\n",
    "\n",
    "with open('params.json', 'w') as fout:\n",
    "    params_str = json.dump(params, fout)\n",
    "with open('params.json', 'r') as fin:\n",
    "    original_params = json.load(fin)\n",
    "\n",
    "print('after json deserialization')\n",
    "print('type of original_params = {}, original_params = {}'.format(type(original_params),original_params))"
   ]
  },
  {
   "cell_type": "markdown",
   "id": "0da9d479",
   "metadata": {},
   "source": [
    "# Condition "
   ]
  },
  {
   "cell_type": "markdown",
   "id": "bff14cd9",
   "metadata": {},
   "source": [
    "字典的键是可以迭代的"
   ]
  },
  {
   "cell_type": "code",
   "execution_count": 19,
   "id": "57114d4b",
   "metadata": {},
   "outputs": [
    {
     "name": "stdout",
     "output_type": "stream",
     "text": [
      "name\n",
      "dob\n",
      "gender\n"
     ]
    }
   ],
   "source": [
    "d = {'name': 'jason', 'dob': '2000-01-01', 'gender': 'male'}\n",
    "for k in d:\n",
    "    print(k)"
   ]
  },
  {
   "cell_type": "code",
   "execution_count": 21,
   "id": "b80b00cd",
   "metadata": {},
   "outputs": [
    {
     "name": "stdout",
     "output_type": "stream",
     "text": [
      "jason\n",
      "2000-01-01\n",
      "male\n"
     ]
    }
   ],
   "source": [
    "for v in d.values():#遍历值\n",
    "    print(v)"
   ]
  },
  {
   "cell_type": "code",
   "execution_count": 22,
   "id": "c9aeee09",
   "metadata": {},
   "outputs": [
    {
     "name": "stdout",
     "output_type": "stream",
     "text": [
      "key: name, value: jason\n",
      "key: dob, value: 2000-01-01\n",
      "key: gender, value: male\n"
     ]
    }
   ],
   "source": [
    "for k,v in d.items(): #遍历键值对\n",
    "    print('key: {}, value: {}'.format(k, v))"
   ]
  },
  {
   "cell_type": "markdown",
   "id": "a15b67ea",
   "metadata": {},
   "source": [
    "两个字典,产品名称到价格的映射，和产品名称到颜色列表的映射,找出价格小于 1000，并且颜色不是红色的所有产品名称和颜色的组合"
   ]
  },
  {
   "cell_type": "code",
   "execution_count": 23,
   "id": "e140b7b5",
   "metadata": {},
   "outputs": [
    {
     "ename": "SyntaxError",
     "evalue": "invalid syntax (Temp/ipykernel_21572/89006577.py, line 10)",
     "output_type": "error",
     "traceback": [
      "\u001b[1;36m  File \u001b[1;32m\"C:\\Users\\aaaaa\\AppData\\Local\\Temp/ipykernel_21572/89006577.py\"\u001b[1;36m, line \u001b[1;32m10\u001b[0m\n\u001b[1;33m    if color == 'red'\u001b[0m\n\u001b[1;37m                     ^\u001b[0m\n\u001b[1;31mSyntaxError\u001b[0m\u001b[1;31m:\u001b[0m invalid syntax\n"
     ]
    }
   ],
   "source": [
    "dic1\n",
    "dic2\n",
    "for name,price in dic1.items():\n",
    "    if v >1000:\n",
    "        continue\n",
    "    if name not in name_color:\n",
    "        print('name: {}, color: {}'.format(name, 'None'))\n",
    "        continue\n",
    "    for color in name_color[name]:\n",
    "        if color == 'red':\n",
    "            continue\n",
    "        print('name: {}, color: {}'.format(name, color))\n"
   ]
  },
  {
   "cell_type": "markdown",
   "id": "225000ab",
   "metadata": {},
   "source": [
    "如果你只是遍历一个已知的集合，找出满足条件的元素，并进行相应的操作，那\n",
    "么使用 for 循环更加简洁。但如果你需要在满足某个条件前，不停地重复某些操作，并且没\n",
    "有特定的集合需要去遍历，那么一般则会使用 while 循环。\n"
   ]
  },
  {
   "cell_type": "markdown",
   "id": "75f79331",
   "metadata": {},
   "source": [
    "## 一行写出表达式"
   ]
  },
  {
   "cell_type": "markdown",
   "id": "19e7c672",
   "metadata": {},
   "source": [
    " expression1 if condition else expression2 for item in iterable\n"
   ]
  },
  {
   "cell_type": "code",
   "execution_count": 26,
   "id": "2aa104e8",
   "metadata": {},
   "outputs": [
    {
     "data": {
      "text/plain": [
       "[7, 9, 11, 13, 15]"
      ]
     },
     "execution_count": 26,
     "metadata": {},
     "output_type": "execute_result"
    }
   ],
   "source": [
    "x = {1,2,3,4,5}\n",
    "y = [value *2 +5 if value>0 else - value*2+5 for value in x]\n",
    "y"
   ]
  },
  {
   "cell_type": "markdown",
   "id": "732ba5d0",
   "metadata": {},
   "source": [
    "# 异常处理"
   ]
  },
  {
   "cell_type": "code",
   "execution_count": null,
   "id": "6b07b953",
   "metadata": {},
   "outputs": [],
   "source": [
    "try:\n",
    "    s = input('please enter two numers')\n",
    "except ValueError as err:\n",
    "    print('Value Error: {}'.format(err))\n",
    "except IndexError as err:\n",
    "    print('Index Error: {}'.format(err))\n",
    "except:\n",
    "    print('Other error')\n",
    "print('continue')\n"
   ]
  },
  {
   "cell_type": "markdown",
   "id": "e9a2475d",
   "metadata": {},
   "source": [
    "## Finally"
   ]
  },
  {
   "cell_type": "markdown",
   "id": "df9eb885",
   "metadata": {},
   "source": [
    "是 finally，经常和 try、except 放在一起来用。无论\n",
    "发生什么情况，finally block 中的语句都会被执行"
   ]
  },
  {
   "cell_type": "code",
   "execution_count": null,
   "id": "cd509f09",
   "metadata": {},
   "outputs": [],
   "source": [
    "import sys\n",
    "try:\n",
    "    f = open('file.txt', 'r')\n",
    "    .... # some data processing\n",
    "except OSError as err:\n",
    "    print('OS error: {}'.format(err))\n",
    "except:\n",
    "    print('Unexpected error:', sys.exc_info()[0])\n",
    "finally:\n",
    "    f.close()\n"
   ]
  },
  {
   "cell_type": "markdown",
   "id": "845972a3",
   "metadata": {},
   "source": [
    "try block 尝试读取 file.txt 这个文件，并对其中的数据进行一系列的处理，到\n",
    "最后，无论是读取成功还是读取失败，程序都会执行 finally 中的语句——关闭这个文件\n",
    "流，确保文件的完整性。因此，在 finally 中，我们通常会放一些无论如何都要执行的语\n",
    "句。"
   ]
  },
  {
   "cell_type": "markdown",
   "id": "405840b9",
   "metadata": {},
   "source": [
    "## 异常的使用场景"
   ]
  },
  {
   "cell_type": "code",
   "execution_count": 1,
   "id": "7babac89",
   "metadata": {},
   "outputs": [],
   "source": [
    "import json\n",
    "\n",
    "raw_data = queryDB(uid)#根据游湖的id，返回相应信息\n",
    "data = json.loads(raw_data)"
   ]
  },
  {
   "cell_type": "markdown",
   "id": "68a0a588",
   "metadata": {},
   "source": [
    "在 json.loads() 函数中，输入的字符串如果不符合其规范，那么便无法解码，就\n",
    "会抛出异常，因此加上异常处理十分必要。"
   ]
  },
  {
   "cell_type": "code",
   "execution_count": null,
   "id": "c477b3ba",
   "metadata": {},
   "outputs": [],
   "source": [
    "try:\n",
    "    data = json.loads(raw_data)\n",
    "....\n",
    "except JSONDecodeError as err:\n",
    "    print('JSONDecodeError: {}'.format(err))\n"
   ]
  },
  {
   "cell_type": "markdown",
   "id": "0bb864e3",
   "metadata": {},
   "source": [
    "## 避免滥用异常处理"
   ]
  },
  {
   "cell_type": "markdown",
   "id": "5d99d914",
   "metadata": {},
   "source": [
    "正常的 flow-control 逻辑，不要使用异常处理，直接用条件语\n",
    "句解决就可以了"
   ]
  },
  {
   "cell_type": "markdown",
   "id": "378c5169",
   "metadata": {},
   "source": [
    "比如查找字典中某个键对应的值"
   ]
  },
  {
   "cell_type": "code",
   "execution_count": null,
   "id": "382d64de",
   "metadata": {},
   "outputs": [],
   "source": [
    "if 'dob' in d:\n",
    "    value = d['dob']"
   ]
  },
  {
   "cell_type": "markdown",
   "id": "73be7200",
   "metadata": {},
   "source": [
    "# 函数的使用"
   ]
  },
  {
   "cell_type": "markdown",
   "id": "a6a83b46",
   "metadata": {},
   "source": [
    "## 函数的嵌套"
   ]
  },
  {
   "cell_type": "markdown",
   "id": "9dbff0e6",
   "metadata": {},
   "source": [
    "### 保护隐私"
   ]
  },
  {
   "cell_type": "markdown",
   "id": "1db66144",
   "metadata": {},
   "source": [
    "函数的嵌套能够保证内部函数的隐私。内部函数只能被外部函数所调用和访问，不会\n",
    "暴露在全局作用域，"
   ]
  },
  {
   "cell_type": "markdown",
   "id": "976c5df6",
   "metadata": {},
   "source": [
    "如果你的函数内部有一些隐私数据（比如数据库的用户、密码\n",
    "等），不想暴露在外，那你就可以使用函数的的嵌套，将其封装在内部函数中，只通过外部\n",
    "函数来访问。比如："
   ]
  },
  {
   "cell_type": "code",
   "execution_count": null,
   "id": "c307e325",
   "metadata": {},
   "outputs": [],
   "source": [
    "def connect_DB():\n",
    "    def get_DB_configuration():\n",
    "        ...\n",
    "        return host, username, password\n",
    "    conn = connector.connect(get_DB_configuration())\n",
    "    return conn"
   ]
  },
  {
   "cell_type": "markdown",
   "id": "01191039",
   "metadata": {},
   "source": [
    "这里的函数 get_DB_configuration，便是内部函数，它无法在 connect_DB()函数以外被单独调用也就是说，下面这样的外部直接调用是错误的："
   ]
  },
  {
   "cell_type": "code",
   "execution_count": null,
   "id": "6b5f3ff9",
   "metadata": {},
   "outputs": [],
   "source": [
    "get_DB_configuration()\n",
    "# 输出\n",
    "NameError: name 'get_DB_configuration' is not defined "
   ]
  },
  {
   "cell_type": "markdown",
   "id": "33c132aa",
   "metadata": {},
   "source": [
    "### 运行效率"
   ]
  },
  {
   "cell_type": "code",
   "execution_count": null,
   "id": "47eebea1",
   "metadata": {},
   "outputs": [],
   "source": [
    "def factorial(input):\n",
    "    # validation check\n",
    "    if not isinstance(input, int):\n",
    "    raise Exception('input must be an integer.')\n",
    "    if input < 0:\n",
    "    raise Exception('input must be greater or equal to 0' )\n",
    "    ...\n",
    "    def inner_factorial(input):\n",
    "        if input <= 1:\n",
    "            return 1\n",
    "        return input * inner_factorial(input-1)\n",
    "    return inner_factorial(input)\n",
    "print(factorial(5))"
   ]
  },
  {
   "cell_type": "markdown",
   "id": "2b23e419",
   "metadata": {},
   "source": [
    "避免每次递归都检查数值"
   ]
  },
  {
   "cell_type": "markdown",
   "id": "a020cec3",
   "metadata": {},
   "source": [
    "## 变量作用域"
   ]
  },
  {
   "cell_type": "markdown",
   "id": "6f02fd33",
   "metadata": {},
   "source": [
    "变量是在函数内部定义的，就称为局部变量，只在函数内部有效。一旦函数执行完毕，局部变量就会被回收，无法访问"
   ]
  },
  {
   "cell_type": "markdown",
   "id": "922f1654",
   "metadata": {},
   "source": [
    "全局变量则是定义在整个文件层次上的"
   ]
  },
  {
   "cell_type": "code",
   "execution_count": null,
   "id": "4741be6e",
   "metadata": {},
   "outputs": [],
   "source": [
    "MIN_VALUE = 1\n",
    "MAX_VALUE = 10\n",
    "def validation_check(value):\n",
    "    if value < MIN_VALUE or value > MAX_VALUE:\n",
    "        raise Exception('validation check fails')\n"
   ]
  },
  {
   "cell_type": "markdown",
   "id": "c2d7714a",
   "metadata": {},
   "source": [
    "不能在函数内部随意改变全局变量的值。"
   ]
  },
  {
   "cell_type": "code",
   "execution_count": null,
   "id": "e32d9bb9",
   "metadata": {},
   "outputs": [],
   "source": [
    "MIN_VALUE = 1\n",
    "MAX_VALUE = 10\n",
    "def validation_check(value):\n",
    "    ...\n",
    "    MIN_VALUE += 1\n",
    "    ...\n",
    "validation_check(5)\n"
   ]
  },
  {
   "cell_type": "markdown",
   "id": "ecf561f9",
   "metadata": {},
   "source": [
    "如果我们一定要在函数内部改变全局变量的值，就必须加上 global 这个声明"
   ]
  },
  {
   "cell_type": "code",
   "execution_count": null,
   "id": "a72230ce",
   "metadata": {},
   "outputs": [],
   "source": [
    "MIN_VALUE = 1\n",
    "MAX_VALUE = 10\n",
    "def validation_check(value):\n",
    "    global MIN_VALUE\n",
    "    ...\n",
    "    MIN_VALUE += 1\n",
    "    ...\n",
    "validation_check(5)\n"
   ]
  },
  {
   "cell_type": "markdown",
   "id": "623af432",
   "metadata": {},
   "source": [
    "global ,并不表示重新创建了一个全局变量 MIN_VALUE，而是告诉\n",
    "Python 解释器，函数内部的变量 MIN_VALUE，就是之前定义的全局变量，并不是新的全\n",
    "局变量，也不是局部变量"
   ]
  },
  {
   "cell_type": "markdown",
   "id": "40ed30e0",
   "metadata": {},
   "source": [
    "到函数内部局部变量和全局变量同名的情况，那么在函数内部，局部变量会覆\n",
    "盖全局变量，"
   ]
  },
  {
   "cell_type": "markdown",
   "id": "3afc6209",
   "metadata": {},
   "source": [
    "对于嵌套函数来说，内部函数可以访问外部函数定义的变量，但是无法修改，若要\n",
    "修改，必须加上 nonlocal 这个关键字"
   ]
  },
  {
   "cell_type": "code",
   "execution_count": 2,
   "id": "f5dccf2b",
   "metadata": {},
   "outputs": [
    {
     "name": "stdout",
     "output_type": "stream",
     "text": [
      "inner: nonlocal\n",
      "outer: nonlocal\n"
     ]
    }
   ],
   "source": [
    "def outer():\n",
    "    x = \"local\"\n",
    "    def inner():\n",
    "        nonlocal x # nonlocal 关键字表示这里的 x 就是外部函数 outer 定义的变量 x\n",
    "        x = 'nonlocal'\n",
    "        print(\"inner:\", x)\n",
    "    inner()\n",
    "    print(\"outer:\", x)\n",
    "outer()"
   ]
  },
  {
   "cell_type": "markdown",
   "id": "736dafac",
   "metadata": {},
   "source": [
    "如果不加上 nonlocal 这个关键字，而内部函数的变量又和外部函数变量同名，那么同样\n",
    "的，内部函数变量会覆盖外部函数的变量。"
   ]
  },
  {
   "cell_type": "code",
   "execution_count": 3,
   "id": "b492e511",
   "metadata": {},
   "outputs": [
    {
     "name": "stdout",
     "output_type": "stream",
     "text": [
      "inner: nonlocal\n",
      "outer: local\n"
     ]
    }
   ],
   "source": [
    "def outer():\n",
    "    x = \"local\"\n",
    "    def inner():\n",
    "        x = 'nonlocal'\n",
    "        print(\"inner:\", x)\n",
    "    inner()\n",
    "    print(\"outer:\", x)\n",
    "outer()"
   ]
  },
  {
   "cell_type": "markdown",
   "id": "116f2066",
   "metadata": {},
   "source": [
    "## Closure闭包"
   ]
  },
  {
   "cell_type": "code",
   "execution_count": 4,
   "id": "986ec1f2",
   "metadata": {},
   "outputs": [],
   "source": [
    "def nth_power(exponent):\n",
    "    def exponent_of(base):\n",
    "        return base ** exponent\n",
    "    return exponent_of # 返回值是 exponent_of 函数\n",
    "square = nth_power(2) # 计算一个数的平方\n",
    "cube = nth_power(3) # 计算一个数的立方\n"
   ]
  },
  {
   "cell_type": "code",
   "execution_count": 5,
   "id": "962cffc1",
   "metadata": {},
   "outputs": [
    {
     "data": {
      "text/plain": [
       "<function __main__.nth_power.<locals>.exponent_of(base)>"
      ]
     },
     "execution_count": 5,
     "metadata": {},
     "output_type": "execute_result"
    }
   ],
   "source": [
    "square"
   ]
  },
  {
   "cell_type": "code",
   "execution_count": 6,
   "id": "600be10f",
   "metadata": {},
   "outputs": [
    {
     "data": {
      "text/plain": [
       "<function __main__.nth_power.<locals>.exponent_of(base)>"
      ]
     },
     "execution_count": 6,
     "metadata": {},
     "output_type": "execute_result"
    }
   ],
   "source": [
    "cube"
   ]
  },
  {
   "cell_type": "code",
   "execution_count": 7,
   "id": "7833f22d",
   "metadata": {},
   "outputs": [
    {
     "data": {
      "text/plain": [
       "4"
      ]
     },
     "execution_count": 7,
     "metadata": {},
     "output_type": "execute_result"
    }
   ],
   "source": [
    "square(2)"
   ]
  },
  {
   "cell_type": "code",
   "execution_count": 8,
   "id": "655b720c",
   "metadata": {},
   "outputs": [
    {
     "data": {
      "text/plain": [
       "8"
      ]
     },
     "execution_count": 8,
     "metadata": {},
     "output_type": "execute_result"
    }
   ],
   "source": [
    "cube(2)"
   ]
  },
  {
   "cell_type": "markdown",
   "id": "caa97cc9",
   "metadata": {},
   "source": [
    "比下面这个写法简洁一点，少一个参数"
   ]
  },
  {
   "cell_type": "code",
   "execution_count": null,
   "id": "1090d956",
   "metadata": {},
   "outputs": [],
   "source": [
    "def nth_power_rewrite(base, exponent):\n",
    "    return base ** exponent"
   ]
  },
  {
   "cell_type": "markdown",
   "id": "3e0ef51a",
   "metadata": {},
   "source": [
    "其次，和上面讲到的嵌套函数优点类似，函数开头需要做一些额外工作，而你又需要多次调\n",
    "用这个函数时，将那些额外工作的代码放在外部函数，就可以减少多次调用导致的不必要的\n",
    "开销，提高程序的运行效率。"
   ]
  },
  {
   "cell_type": "markdown",
   "id": "1b5e916a",
   "metadata": {},
   "source": [
    "# 匿名函数"
   ]
  },
  {
   "cell_type": "markdown",
   "id": "bc7c50c0",
   "metadata": {},
   "source": [
    "## lambda"
   ]
  },
  {
   "cell_type": "markdown",
   "id": "8ad41313",
   "metadata": {},
   "source": [
    "lambda argument1, argument2,... argumentN : expression"
   ]
  },
  {
   "cell_type": "code",
   "execution_count": 9,
   "id": "4af26fea",
   "metadata": {},
   "outputs": [
    {
     "data": {
      "text/plain": [
       "9"
      ]
     },
     "execution_count": 9,
     "metadata": {},
     "output_type": "execute_result"
    }
   ],
   "source": [
    "square = lambda x:x**2\n",
    "square(3)"
   ]
  },
  {
   "cell_type": "markdown",
   "id": "f493361e",
   "metadata": {},
   "source": [
    "### lambda 是一个表达式（expression），并不是一个语句（statement）"
   ]
  },
  {
   "cell_type": "markdown",
   "id": "b020bd7b",
   "metadata": {},
   "source": [
    "公式”去表达一个东西，比如x + 2、 x**2"
   ]
  },
  {
   "cell_type": "markdown",
   "id": "c389fc36",
   "metadata": {},
   "source": [
    "语句，则一定是完成了某些功能，比如赋值语句x = 1完成了赋值，print 语句\n",
    "print(x)完成了打印，条件语句 if x < 0:完成了选择功能"
   ]
  },
  {
   "cell_type": "code",
   "execution_count": 10,
   "id": "de2a5066",
   "metadata": {},
   "outputs": [
    {
     "data": {
      "text/plain": [
       "[0, 1, 4, 9, 16, 25, 36, 49, 64, 81]"
      ]
     },
     "execution_count": 10,
     "metadata": {},
     "output_type": "execute_result"
    }
   ],
   "source": [
    "[(lambda x:x*x)(x) for x in range(10)]"
   ]
  },
  {
   "cell_type": "code",
   "execution_count": 11,
   "id": "d2a7ab48",
   "metadata": {},
   "outputs": [
    {
     "name": "stdout",
     "output_type": "stream",
     "text": [
      "[(2, -1), (3, 0), (1, 10), (9, 10)]\n"
     ]
    }
   ],
   "source": [
    "l = [(1,10),(3,0),(9,10),(2,-1)]\n",
    "l.sort(key=lambda x:x[1])\n",
    "print(l)"
   ]
  },
  {
   "cell_type": "markdown",
   "id": "d65db995",
   "metadata": {},
   "source": [
    "### lambda 的主体是只有一行的简单表达式，并不能扩展成一个多行的代码块。"
   ]
  },
  {
   "cell_type": "markdown",
   "id": "a690f468",
   "metadata": {},
   "source": [
    "好处：  \n",
    "1减少代码重复性  \n",
    "2模块化代码"
   ]
  },
  {
   "cell_type": "markdown",
   "id": "aa8c3445",
   "metadata": {},
   "source": [
    "使用情况：一个函数，但它非常简短，只需要一行就能完成；同\n",
    "时它在程序中只被调用一次而已"
   ]
  },
  {
   "cell_type": "code",
   "execution_count": 15,
   "id": "b9b2367c",
   "metadata": {},
   "outputs": [
    {
     "data": {
      "text/plain": [
       "[1, 4, 9, 16, 25]"
      ]
     },
     "execution_count": 15,
     "metadata": {},
     "output_type": "execute_result"
    }
   ],
   "source": [
    "squared = map(lambda x: x**2, [1, 2, 3, 4, 5])\n",
    "list(squared)"
   ]
  },
  {
   "cell_type": "markdown",
   "id": "40063d42",
   "metadata": {},
   "source": [
    "函数 map(function, iterable) 的第一个参数是函数对象，第二个参\n",
    "数是一个可以遍历的集合，它表示对 iterable 的每一个元素，都运用 function 这个函数"
   ]
  },
  {
   "cell_type": "markdown",
   "id": "89fdfc6a",
   "metadata": {},
   "source": [
    "## 函数式编程"
   ]
  },
  {
   "cell_type": "markdown",
   "id": "94f2aed3",
   "metadata": {},
   "source": [
    "所谓函数式编程，是指代码中每一块都是不可变的（immutable），都由纯函数（pure\n",
    "function）的形式组成。这里的纯函数，是指函数本身相互独立、互不影响，对于相同的输\n",
    "入，总会有相同的输出，没有任何副作用"
   ]
  },
  {
   "cell_type": "markdown",
   "id": "7a622d5d",
   "metadata": {},
   "source": [
    "如对于一个列表，我想让列表中的元素值都变为原来的两倍"
   ]
  },
  {
   "cell_type": "code",
   "execution_count": 17,
   "id": "b4e8d5e4",
   "metadata": {},
   "outputs": [],
   "source": [
    "def multiply_2(l):\n",
    "    for index in range(0, len(l)):\n",
    "        l[index] *= 2\n",
    "    return l\n"
   ]
  },
  {
   "cell_type": "markdown",
   "id": "dc855cfc",
   "metadata": {},
   "source": [
    "上述这段代码我带个l进去多次执行，每次都是不同的结果。"
   ]
  },
  {
   "cell_type": "code",
   "execution_count": 18,
   "id": "dc778257",
   "metadata": {},
   "outputs": [],
   "source": [
    "def multiply_2_pure(l):\n",
    "    new_list = []\n",
    "    for item in l:\n",
    "        new_list.append(item * 2)\n",
    "    return new_list"
   ]
  },
  {
   "cell_type": "markdown",
   "id": "dc8953f2",
   "metadata": {},
   "source": [
    "现在才符合函数式编程要求"
   ]
  },
  {
   "cell_type": "markdown",
   "id": "3af20cae",
   "metadata": {},
   "source": [
    "map()、filter() 和 reduce()，通常结合匿名函数lambda 一起使用"
   ]
  },
  {
   "cell_type": "markdown",
   "id": "e915f8af",
   "metadata": {},
   "source": [
    "### map()"
   ]
  },
  {
   "cell_type": "code",
   "execution_count": 21,
   "id": "e7258324",
   "metadata": {},
   "outputs": [
    {
     "data": {
      "text/plain": [
       "[2, 4, 6, 8, 10]"
      ]
     },
     "execution_count": 21,
     "metadata": {},
     "output_type": "execute_result"
    }
   ],
   "source": [
    "l = [1, 2, 3, 4, 5]\n",
    "new_list = map(lambda x: x * 2, l)\n",
    "list(new_list)"
   ]
  },
  {
   "cell_type": "markdown",
   "id": "3771db39",
   "metadata": {},
   "source": [
    "相比for的循环，它速度超级快"
   ]
  },
  {
   "cell_type": "markdown",
   "id": "33336f72",
   "metadata": {},
   "source": [
    "### filter(function, iterable) "
   ]
  },
  {
   "cell_type": "markdown",
   "id": "db13aa30",
   "metadata": {},
   "source": [
    " filter(function, iterable) 函数，它和 map 函数类似，function 同样表示一个\n",
    "函数对象。filter() 函数表示对 iterable 中的每个元素，都使用 function 判断，并返回\n",
    "True 或者 False，最后将返回 True 的元素组成一个新的可遍历的集合"
   ]
  },
  {
   "cell_type": "markdown",
   "id": "e06a6085",
   "metadata": {},
   "source": [
    "个人感觉更多想筛选"
   ]
  },
  {
   "cell_type": "code",
   "execution_count": 25,
   "id": "c3d8a660",
   "metadata": {},
   "outputs": [
    {
     "data": {
      "text/plain": [
       "[2, 4]"
      ]
     },
     "execution_count": 25,
     "metadata": {},
     "output_type": "execute_result"
    }
   ],
   "source": [
    "l = [1, 2, 3, 4, 5]\n",
    "new_list = filter(lambda x: x % 2 == 0, l) \n",
    "list(new_list)"
   ]
  },
  {
   "cell_type": "markdown",
   "id": "32e5cf52",
   "metadata": {},
   "source": [
    "### reduce(function, iterable)"
   ]
  },
  {
   "cell_type": "markdown",
   "id": "4297c7fc",
   "metadata": {},
   "source": [
    "它通常用来对一个集合做一些累积操作"
   ]
  },
  {
   "cell_type": "markdown",
   "id": "89778181",
   "metadata": {},
   "source": [
    "function 同样是一个函数对象，规定它有两个参数，表示对 iterable 中的每个元素以及上一次调用后的结果，运用 function 进行计算，所以最后返回的是一个单独的数值"
   ]
  },
  {
   "cell_type": "code",
   "execution_count": 27,
   "id": "d7e512a2",
   "metadata": {},
   "outputs": [],
   "source": [
    "from functools import reduce\n",
    "l = [1, 2, 3, 4, 5]\n",
    "product = reduce(lambda x, y: x * y, l) # 1*2*3*4*5 = 120"
   ]
  },
  {
   "cell_type": "markdown",
   "id": "7636576b",
   "metadata": {},
   "source": [
    "# To object"
   ]
  },
  {
   "cell_type": "code",
   "execution_count": 1,
   "id": "4fc43a80",
   "metadata": {},
   "outputs": [],
   "source": [
    "class Document():\n",
    "    def __init__(self,title,author,context):\n",
    "        self.title = title\n",
    "        self.author = author\n",
    "        self.__context = context\n",
    "    \n",
    "    def get_context_length(self):\n",
    "        return len(self.__context)\n",
    "    \n",
    "    def intercept_context(self, length):\n",
    "        self.__context = self.__context[:length]"
   ]
  },
  {
   "cell_type": "code",
   "execution_count": 2,
   "id": "e70193f6",
   "metadata": {},
   "outputs": [],
   "source": [
    "harry_potter_book = Document('Harrypotter',\"JKrolling\", \"Never believe others\")"
   ]
  },
  {
   "cell_type": "code",
   "execution_count": 3,
   "id": "2bd1f0e1",
   "metadata": {},
   "outputs": [
    {
     "name": "stdout",
     "output_type": "stream",
     "text": [
      "Harrypotter\n",
      "JKrolling\n",
      "20\n"
     ]
    }
   ],
   "source": [
    "print(harry_potter_book.title)\n",
    "print(harry_potter_book.author)\n",
    "print(harry_potter_book.get_context_length())"
   ]
  },
  {
   "cell_type": "code",
   "execution_count": 4,
   "id": "ed1c7a75",
   "metadata": {},
   "outputs": [
    {
     "name": "stdout",
     "output_type": "stream",
     "text": [
      "10\n"
     ]
    }
   ],
   "source": [
    "harry_potter_book.intercept_context(10)\n",
    "print(harry_potter_book.get_context_length())"
   ]
  },
  {
   "cell_type": "code",
   "execution_count": 6,
   "id": "44dbfb39",
   "metadata": {},
   "outputs": [
    {
     "name": "stdout",
     "output_type": "stream",
     "text": [
      "init function called\n",
      "7\n",
      "Welcome! The context for this book is indeed nothing\n"
     ]
    }
   ],
   "source": [
    "class Document:\n",
    "    WELCOM_STR = \"Welcome! The context for this book is {}\"\n",
    "    \n",
    "    def __init__(self, title, author, context):\n",
    "        print(\"init function called\")\n",
    "        self.title = title\n",
    "        self.author = author\n",
    "        self.__context = context\n",
    "        \n",
    "    @classmethod\n",
    "    def create_empty_book(cls, title,author):  #实现不同的Init函数\n",
    "        return cls(title=title, author=author, context=\"nothing\")\n",
    "    \n",
    "    def get_context_length(self):\n",
    "        return len(self.__context)\n",
    "    \n",
    "    @staticmethod\n",
    "    def get_welcome(context):\n",
    "        return Document.WELCOM_STR.format(context)\n",
    "\n",
    "empty_book = Document.create_empty_book(\"What what\", \"Alugg\")\n",
    "\n",
    "print(empty_book.get_context_length())\n",
    "print(empty_book.get_welcome(\"indeed nothing\"))"
   ]
  },
  {
   "cell_type": "markdown",
   "id": "560a322b",
   "metadata": {},
   "source": [
    "## 继承"
   ]
  },
  {
   "cell_type": "code",
   "execution_count": 10,
   "id": "4393cf2f",
   "metadata": {},
   "outputs": [],
   "source": [
    "class Entity():\n",
    "    def __init__(self, object_type):\n",
    "        print('parent class init called')\n",
    "        self.object_type = object_type\n",
    "\n",
    "    def get_context_length(self):\n",
    "        raise Exception('get_context_length not implemented')\n",
    "\n",
    "    def print_title(self):\n",
    "        print(self.title)\n",
    "        \n",
    "class Document(Entity):\n",
    "    def __init__(self, title, author, context):\n",
    "        print(\"Document class init called\")\n",
    "        Entity.__init__(self, 'document')\n",
    "        self.title = title\n",
    "        self.author = author\n",
    "        self.__context = context\n",
    "\n",
    "    def get_context_length(self):\n",
    "        return len(self.__context)\n",
    "    \n",
    "    \n",
    "class Video(Entity):\n",
    "    def __init__(self, title, author, video_length):\n",
    "        print(\"Video class init called\")\n",
    "        Entity.__init__(self, 'video')\n",
    "        self.title = title\n",
    "        self.author = author\n",
    "        self.__video_length = video_length\n",
    "        \n",
    "    def get_context_length(self):\n",
    "        return self.__video_length\n",
    "        \n"
   ]
  },
  {
   "cell_type": "code",
   "execution_count": 12,
   "id": "4f7d3505",
   "metadata": {},
   "outputs": [
    {
     "name": "stdout",
     "output_type": "stream",
     "text": [
      "Document class init called\n",
      "parent class init called\n",
      "Video class init called\n",
      "parent class init called\n",
      "document\n",
      "video\n"
     ]
    }
   ],
   "source": [
    "harry_potter_book = Document('Harray Potter(Book)',\"J.K.Rowling\",\"..Never Fuck\")\n",
    "harry_potter_video = Video('Harray Potter(Movie)',\"J.K.Rowling\",120)\n",
    "\n",
    "print(harry_potter_book.object_type)\n",
    "print(harry_potter_video.object_type)"
   ]
  },
  {
   "cell_type": "code",
   "execution_count": 14,
   "id": "c7dcc7fe",
   "metadata": {},
   "outputs": [
    {
     "name": "stdout",
     "output_type": "stream",
     "text": [
      "Harray Potter(Book)\n",
      "Harray Potter(Movie)\n"
     ]
    }
   ],
   "source": [
    "harry_potter_book.print_title()\n",
    "harry_potter_video.print_title()"
   ]
  },
  {
   "cell_type": "code",
   "execution_count": 15,
   "id": "ddf2c5da",
   "metadata": {},
   "outputs": [
    {
     "name": "stdout",
     "output_type": "stream",
     "text": [
      "12\n",
      "120\n"
     ]
    }
   ],
   "source": [
    "print(harry_potter_book.get_context_length())\n",
    "print(harry_potter_video.get_context_length())"
   ]
  },
  {
   "cell_type": "markdown",
   "id": "dcef346f",
   "metadata": {},
   "source": [
    "## 抽象类"
   ]
  },
  {
   "cell_type": "markdown",
   "id": "43e6cbeb",
   "metadata": {},
   "source": [
    "抽象类是一种特殊的类，它生下来就是作为父类存在的，一旦对象化就会报错。同样，抽象\n",
    "函数定义在抽象类之中，子类必须重写该函数才能使用。相应的抽象函数，则是使用装饰器\n",
    "@abstractmethod 来表示。"
   ]
  },
  {
   "cell_type": "code",
   "execution_count": 16,
   "id": "9639977d",
   "metadata": {},
   "outputs": [
    {
     "name": "stdout",
     "output_type": "stream",
     "text": [
      "Harry Potter\n"
     ]
    }
   ],
   "source": [
    "from abc import ABCMeta,abstractmethod\n",
    "\n",
    "class Entity(metaclass=ABCMeta):\n",
    "    @abstractmethod\n",
    "    def get_title(self):\n",
    "        pass\n",
    "    \n",
    "    @abstractmethod\n",
    "    def set_title(self, title):\n",
    "        pass\n",
    "    \n",
    "class Document(Entity):\n",
    "    def get_title(self):\n",
    "        return self.title\n",
    "    \n",
    "    def set_title(self, title):\n",
    "        self.title = title\n",
    "        \n",
    "document = Document()\n",
    "document.set_title(\"Harry Potter\")\n",
    "print(document.get_title())"
   ]
  },
  {
   "cell_type": "code",
   "execution_count": 17,
   "id": "25cb6375",
   "metadata": {},
   "outputs": [
    {
     "ename": "TypeError",
     "evalue": "Can't instantiate abstract class Entity with abstract methods get_title, set_title",
     "output_type": "error",
     "traceback": [
      "\u001b[1;31m---------------------------------------------------------------------------\u001b[0m",
      "\u001b[1;31mTypeError\u001b[0m                                 Traceback (most recent call last)",
      "\u001b[1;32m~\\AppData\\Local\\Temp/ipykernel_39040/2398455370.py\u001b[0m in \u001b[0;36m<module>\u001b[1;34m\u001b[0m\n\u001b[1;32m----> 1\u001b[1;33m \u001b[0mentity\u001b[0m \u001b[1;33m=\u001b[0m \u001b[0mEntity\u001b[0m\u001b[1;33m(\u001b[0m\u001b[1;33m)\u001b[0m\u001b[1;33m\u001b[0m\u001b[1;33m\u001b[0m\u001b[0m\n\u001b[0m",
      "\u001b[1;31mTypeError\u001b[0m: Can't instantiate abstract class Entity with abstract methods get_title, set_title"
     ]
    }
   ],
   "source": [
    "entity = Entity()"
   ]
  },
  {
   "cell_type": "markdown",
   "id": "68a597a2",
   "metadata": {},
   "source": [
    "## 作业:搜索引擎"
   ]
  },
  {
   "cell_type": "code",
   "execution_count": 31,
   "id": "4c7a7a53",
   "metadata": {},
   "outputs": [],
   "source": [
    "class SearchEngineBase(object):\n",
    "    def __init__(self):\n",
    "        pass\n",
    "    \n",
    "    def add_corpus(self, file_path):\n",
    "        with open(file_path, 'r') as fin:\n",
    "            text = fin.read()\n",
    "        self.process_corpus(file_path, text)\n",
    "        \n",
    "    def process_corpus(self, id, text):\n",
    "        raise Exception('process_corpus not implemented.')\n",
    " \n",
    "    def search(self, query):\n",
    "        raise Exception('search not implemented.')\n",
    "        \n",
    "def main(search_engine):\n",
    "    for file_path in [\"1.txt\",\"2.txt\",\"3.txt\",\"4.txt\",\"5.txt\"]:\n",
    "        search_engine.add_corpus(file_path)\n",
    "        \n",
    "    while True:\n",
    "        query = input()\n",
    "        results = search_engine.search(query)\n",
    "        print('found{}result(s):'.format(len(results)))\n",
    "        for result in results:\n",
    "            print(result)"
   ]
  },
  {
   "cell_type": "code",
   "execution_count": 29,
   "id": "ab6e4039",
   "metadata": {},
   "outputs": [
    {
     "name": "stdout",
     "output_type": "stream",
     "text": [
      "little\n",
      "found2result(s):\n",
      "1.txt\n",
      "2.txt\n"
     ]
    },
    {
     "ename": "KeyboardInterrupt",
     "evalue": "Interrupted by user",
     "output_type": "error",
     "traceback": [
      "\u001b[1;31m---------------------------------------------------------------------------\u001b[0m",
      "\u001b[1;31mKeyboardInterrupt\u001b[0m                         Traceback (most recent call last)",
      "\u001b[1;32m~\\AppData\\Local\\Temp/ipykernel_39040/1116776010.py\u001b[0m in \u001b[0;36m<module>\u001b[1;34m\u001b[0m\n\u001b[0;32m     15\u001b[0m \u001b[1;33m\u001b[0m\u001b[0m\n\u001b[0;32m     16\u001b[0m \u001b[0msearch_engine\u001b[0m \u001b[1;33m=\u001b[0m \u001b[0mSimpleEngine\u001b[0m\u001b[1;33m(\u001b[0m\u001b[1;33m)\u001b[0m\u001b[1;33m\u001b[0m\u001b[1;33m\u001b[0m\u001b[0m\n\u001b[1;32m---> 17\u001b[1;33m \u001b[0mmain\u001b[0m\u001b[1;33m(\u001b[0m\u001b[0msearch_engine\u001b[0m\u001b[1;33m)\u001b[0m\u001b[1;33m\u001b[0m\u001b[1;33m\u001b[0m\u001b[0m\n\u001b[0m",
      "\u001b[1;32m~\\AppData\\Local\\Temp/ipykernel_39040/807412464.py\u001b[0m in \u001b[0;36mmain\u001b[1;34m(search_engine)\u001b[0m\n\u001b[0;32m     19\u001b[0m \u001b[1;33m\u001b[0m\u001b[0m\n\u001b[0;32m     20\u001b[0m     \u001b[1;32mwhile\u001b[0m \u001b[1;32mTrue\u001b[0m\u001b[1;33m:\u001b[0m\u001b[1;33m\u001b[0m\u001b[1;33m\u001b[0m\u001b[0m\n\u001b[1;32m---> 21\u001b[1;33m         \u001b[0mquery\u001b[0m \u001b[1;33m=\u001b[0m \u001b[0minput\u001b[0m\u001b[1;33m(\u001b[0m\u001b[1;33m)\u001b[0m\u001b[1;33m\u001b[0m\u001b[1;33m\u001b[0m\u001b[0m\n\u001b[0m\u001b[0;32m     22\u001b[0m         \u001b[0mresults\u001b[0m \u001b[1;33m=\u001b[0m \u001b[0msearch_engine\u001b[0m\u001b[1;33m.\u001b[0m\u001b[0msearch\u001b[0m\u001b[1;33m(\u001b[0m\u001b[0mquery\u001b[0m\u001b[1;33m)\u001b[0m\u001b[1;33m\u001b[0m\u001b[1;33m\u001b[0m\u001b[0m\n\u001b[0;32m     23\u001b[0m         \u001b[0mprint\u001b[0m\u001b[1;33m(\u001b[0m\u001b[1;34m'found{}result(s):'\u001b[0m\u001b[1;33m.\u001b[0m\u001b[0mformat\u001b[0m\u001b[1;33m(\u001b[0m\u001b[0mlen\u001b[0m\u001b[1;33m(\u001b[0m\u001b[0mresults\u001b[0m\u001b[1;33m)\u001b[0m\u001b[1;33m)\u001b[0m\u001b[1;33m)\u001b[0m\u001b[1;33m\u001b[0m\u001b[1;33m\u001b[0m\u001b[0m\n",
      "\u001b[1;32mD:\\ANACONDA\\lib\\site-packages\\ipykernel\\kernelbase.py\u001b[0m in \u001b[0;36mraw_input\u001b[1;34m(self, prompt)\u001b[0m\n\u001b[0;32m   1004\u001b[0m                 \u001b[1;34m\"raw_input was called, but this frontend does not support input requests.\"\u001b[0m\u001b[1;33m\u001b[0m\u001b[1;33m\u001b[0m\u001b[0m\n\u001b[0;32m   1005\u001b[0m             )\n\u001b[1;32m-> 1006\u001b[1;33m         return self._input_request(\n\u001b[0m\u001b[0;32m   1007\u001b[0m             \u001b[0mstr\u001b[0m\u001b[1;33m(\u001b[0m\u001b[0mprompt\u001b[0m\u001b[1;33m)\u001b[0m\u001b[1;33m,\u001b[0m\u001b[1;33m\u001b[0m\u001b[1;33m\u001b[0m\u001b[0m\n\u001b[0;32m   1008\u001b[0m             \u001b[0mself\u001b[0m\u001b[1;33m.\u001b[0m\u001b[0m_parent_ident\u001b[0m\u001b[1;33m[\u001b[0m\u001b[1;34m\"shell\"\u001b[0m\u001b[1;33m]\u001b[0m\u001b[1;33m,\u001b[0m\u001b[1;33m\u001b[0m\u001b[1;33m\u001b[0m\u001b[0m\n",
      "\u001b[1;32mD:\\ANACONDA\\lib\\site-packages\\ipykernel\\kernelbase.py\u001b[0m in \u001b[0;36m_input_request\u001b[1;34m(self, prompt, ident, parent, password)\u001b[0m\n\u001b[0;32m   1049\u001b[0m             \u001b[1;32mexcept\u001b[0m \u001b[0mKeyboardInterrupt\u001b[0m\u001b[1;33m:\u001b[0m\u001b[1;33m\u001b[0m\u001b[1;33m\u001b[0m\u001b[0m\n\u001b[0;32m   1050\u001b[0m                 \u001b[1;31m# re-raise KeyboardInterrupt, to truncate traceback\u001b[0m\u001b[1;33m\u001b[0m\u001b[1;33m\u001b[0m\u001b[0m\n\u001b[1;32m-> 1051\u001b[1;33m                 \u001b[1;32mraise\u001b[0m \u001b[0mKeyboardInterrupt\u001b[0m\u001b[1;33m(\u001b[0m\u001b[1;34m\"Interrupted by user\"\u001b[0m\u001b[1;33m)\u001b[0m \u001b[1;32mfrom\u001b[0m \u001b[1;32mNone\u001b[0m\u001b[1;33m\u001b[0m\u001b[1;33m\u001b[0m\u001b[0m\n\u001b[0m\u001b[0;32m   1052\u001b[0m             \u001b[1;32mexcept\u001b[0m \u001b[0mException\u001b[0m\u001b[1;33m:\u001b[0m\u001b[1;33m\u001b[0m\u001b[1;33m\u001b[0m\u001b[0m\n\u001b[0;32m   1053\u001b[0m                 \u001b[0mself\u001b[0m\u001b[1;33m.\u001b[0m\u001b[0mlog\u001b[0m\u001b[1;33m.\u001b[0m\u001b[0mwarning\u001b[0m\u001b[1;33m(\u001b[0m\u001b[1;34m\"Invalid Message:\"\u001b[0m\u001b[1;33m,\u001b[0m \u001b[0mexc_info\u001b[0m\u001b[1;33m=\u001b[0m\u001b[1;32mTrue\u001b[0m\u001b[1;33m)\u001b[0m\u001b[1;33m\u001b[0m\u001b[1;33m\u001b[0m\u001b[0m\n",
      "\u001b[1;31mKeyboardInterrupt\u001b[0m: Interrupted by user"
     ]
    }
   ],
   "source": [
    "class SimpleEngine(SearchEngineBase):\n",
    "    def __init__(self):\n",
    "        super().__init__()\n",
    "        self.__id_to_texts = {}\n",
    "    \n",
    "    def process_corpus(self, id, text):\n",
    "        self.__id_to_texts[id] = text\n",
    "        \n",
    "    def search(self,query):\n",
    "        results = []\n",
    "        for id,text in self.__id_to_texts.items():\n",
    "            if query in text:\n",
    "                results.append(id)\n",
    "        return results\n",
    "    \n",
    "search_engine = SimpleEngine()\n",
    "main(search_engine)\n"
   ]
  },
  {
   "cell_type": "code",
   "execution_count": 33,
   "id": "cb4d1a1f",
   "metadata": {},
   "outputs": [],
   "source": [
    "import re\n",
    " \n",
    "class BOWEngine(SearchEngineBase):\n",
    "    def __init__(self):\n",
    "        super(BOWEngine, self).__init__()\n",
    "        self.__id_to_words = {}\n",
    " \n",
    "    def process_corpus(self, id, text):\n",
    "        self.__id_to_words[id] = self.parse_text_to_words(text)\n",
    " \n",
    "    def search(self, query):\n",
    "        query_words = self.parse_text_to_words(query)\n",
    "        results = []\n",
    "        for id, words in self.__id_to_words.items():\n",
    "            if self.query_match(query_words, words):\n",
    "                results.append(id)\n",
    "        return results\n",
    "    \n",
    "    @staticmethod\n",
    "    def query_match(query_words, words):\n",
    "        for query_word in query_words:\n",
    "            if query_word not in words:\n",
    "                return False\n",
    "        return True\n",
    " \n",
    "    @staticmethod\n",
    "    def parse_text_to_words(text):\n",
    "        # 使用正则表达式去除标点符号和换行符\n",
    "        text = re.sub(r'[^\\w ]', ' ', text)\n",
    "        # 转为小写\n",
    "        text = text.lower()\n",
    "        # 生成所有单词的列表\n",
    "        word_list = text.split(' ')\n",
    "        # 去除空白单词\n",
    "        word_list = filter(None, word_list)\n",
    "        # 返回单词的 set\n",
    "        return set(word_list)\n"
   ]
  },
  {
   "cell_type": "code",
   "execution_count": 34,
   "id": "7fa5e8a4",
   "metadata": {},
   "outputs": [
    {
     "name": "stdout",
     "output_type": "stream",
     "text": [
      "i have a dream\n",
      "found3result(s):\n",
      "1.txt\n",
      "2.txt\n",
      "3.txt\n"
     ]
    },
    {
     "ename": "KeyboardInterrupt",
     "evalue": "Interrupted by user",
     "output_type": "error",
     "traceback": [
      "\u001b[1;31m---------------------------------------------------------------------------\u001b[0m",
      "\u001b[1;31mKeyboardInterrupt\u001b[0m                         Traceback (most recent call last)",
      "\u001b[1;32m~\\AppData\\Local\\Temp/ipykernel_39040/452877923.py\u001b[0m in \u001b[0;36m<module>\u001b[1;34m\u001b[0m\n\u001b[0;32m      1\u001b[0m \u001b[0msearch_engine\u001b[0m \u001b[1;33m=\u001b[0m \u001b[0mBOWEngine\u001b[0m\u001b[1;33m(\u001b[0m\u001b[1;33m)\u001b[0m\u001b[1;33m\u001b[0m\u001b[1;33m\u001b[0m\u001b[0m\n\u001b[1;32m----> 2\u001b[1;33m \u001b[0mmain\u001b[0m\u001b[1;33m(\u001b[0m\u001b[0msearch_engine\u001b[0m\u001b[1;33m)\u001b[0m\u001b[1;33m\u001b[0m\u001b[1;33m\u001b[0m\u001b[0m\n\u001b[0m",
      "\u001b[1;32m~\\AppData\\Local\\Temp/ipykernel_39040/807412464.py\u001b[0m in \u001b[0;36mmain\u001b[1;34m(search_engine)\u001b[0m\n\u001b[0;32m     19\u001b[0m \u001b[1;33m\u001b[0m\u001b[0m\n\u001b[0;32m     20\u001b[0m     \u001b[1;32mwhile\u001b[0m \u001b[1;32mTrue\u001b[0m\u001b[1;33m:\u001b[0m\u001b[1;33m\u001b[0m\u001b[1;33m\u001b[0m\u001b[0m\n\u001b[1;32m---> 21\u001b[1;33m         \u001b[0mquery\u001b[0m \u001b[1;33m=\u001b[0m \u001b[0minput\u001b[0m\u001b[1;33m(\u001b[0m\u001b[1;33m)\u001b[0m\u001b[1;33m\u001b[0m\u001b[1;33m\u001b[0m\u001b[0m\n\u001b[0m\u001b[0;32m     22\u001b[0m         \u001b[0mresults\u001b[0m \u001b[1;33m=\u001b[0m \u001b[0msearch_engine\u001b[0m\u001b[1;33m.\u001b[0m\u001b[0msearch\u001b[0m\u001b[1;33m(\u001b[0m\u001b[0mquery\u001b[0m\u001b[1;33m)\u001b[0m\u001b[1;33m\u001b[0m\u001b[1;33m\u001b[0m\u001b[0m\n\u001b[0;32m     23\u001b[0m         \u001b[0mprint\u001b[0m\u001b[1;33m(\u001b[0m\u001b[1;34m'found{}result(s):'\u001b[0m\u001b[1;33m.\u001b[0m\u001b[0mformat\u001b[0m\u001b[1;33m(\u001b[0m\u001b[0mlen\u001b[0m\u001b[1;33m(\u001b[0m\u001b[0mresults\u001b[0m\u001b[1;33m)\u001b[0m\u001b[1;33m)\u001b[0m\u001b[1;33m)\u001b[0m\u001b[1;33m\u001b[0m\u001b[1;33m\u001b[0m\u001b[0m\n",
      "\u001b[1;32mD:\\ANACONDA\\lib\\site-packages\\ipykernel\\kernelbase.py\u001b[0m in \u001b[0;36mraw_input\u001b[1;34m(self, prompt)\u001b[0m\n\u001b[0;32m   1004\u001b[0m                 \u001b[1;34m\"raw_input was called, but this frontend does not support input requests.\"\u001b[0m\u001b[1;33m\u001b[0m\u001b[1;33m\u001b[0m\u001b[0m\n\u001b[0;32m   1005\u001b[0m             )\n\u001b[1;32m-> 1006\u001b[1;33m         return self._input_request(\n\u001b[0m\u001b[0;32m   1007\u001b[0m             \u001b[0mstr\u001b[0m\u001b[1;33m(\u001b[0m\u001b[0mprompt\u001b[0m\u001b[1;33m)\u001b[0m\u001b[1;33m,\u001b[0m\u001b[1;33m\u001b[0m\u001b[1;33m\u001b[0m\u001b[0m\n\u001b[0;32m   1008\u001b[0m             \u001b[0mself\u001b[0m\u001b[1;33m.\u001b[0m\u001b[0m_parent_ident\u001b[0m\u001b[1;33m[\u001b[0m\u001b[1;34m\"shell\"\u001b[0m\u001b[1;33m]\u001b[0m\u001b[1;33m,\u001b[0m\u001b[1;33m\u001b[0m\u001b[1;33m\u001b[0m\u001b[0m\n",
      "\u001b[1;32mD:\\ANACONDA\\lib\\site-packages\\ipykernel\\kernelbase.py\u001b[0m in \u001b[0;36m_input_request\u001b[1;34m(self, prompt, ident, parent, password)\u001b[0m\n\u001b[0;32m   1049\u001b[0m             \u001b[1;32mexcept\u001b[0m \u001b[0mKeyboardInterrupt\u001b[0m\u001b[1;33m:\u001b[0m\u001b[1;33m\u001b[0m\u001b[1;33m\u001b[0m\u001b[0m\n\u001b[0;32m   1050\u001b[0m                 \u001b[1;31m# re-raise KeyboardInterrupt, to truncate traceback\u001b[0m\u001b[1;33m\u001b[0m\u001b[1;33m\u001b[0m\u001b[0m\n\u001b[1;32m-> 1051\u001b[1;33m                 \u001b[1;32mraise\u001b[0m \u001b[0mKeyboardInterrupt\u001b[0m\u001b[1;33m(\u001b[0m\u001b[1;34m\"Interrupted by user\"\u001b[0m\u001b[1;33m)\u001b[0m \u001b[1;32mfrom\u001b[0m \u001b[1;32mNone\u001b[0m\u001b[1;33m\u001b[0m\u001b[1;33m\u001b[0m\u001b[0m\n\u001b[0m\u001b[0;32m   1052\u001b[0m             \u001b[1;32mexcept\u001b[0m \u001b[0mException\u001b[0m\u001b[1;33m:\u001b[0m\u001b[1;33m\u001b[0m\u001b[1;33m\u001b[0m\u001b[0m\n\u001b[0;32m   1053\u001b[0m                 \u001b[0mself\u001b[0m\u001b[1;33m.\u001b[0m\u001b[0mlog\u001b[0m\u001b[1;33m.\u001b[0m\u001b[0mwarning\u001b[0m\u001b[1;33m(\u001b[0m\u001b[1;34m\"Invalid Message:\"\u001b[0m\u001b[1;33m,\u001b[0m \u001b[0mexc_info\u001b[0m\u001b[1;33m=\u001b[0m\u001b[1;32mTrue\u001b[0m\u001b[1;33m)\u001b[0m\u001b[1;33m\u001b[0m\u001b[1;33m\u001b[0m\u001b[0m\n",
      "\u001b[1;31mKeyboardInterrupt\u001b[0m: Interrupted by user"
     ]
    }
   ],
   "source": [
    "search_engine = BOWEngine()\n",
    "main(search_engine)"
   ]
  },
  {
   "cell_type": "code",
   "execution_count": null,
   "id": "d049ea2b",
   "metadata": {},
   "outputs": [
    {
     "name": "stdout",
     "output_type": "stream",
     "text": [
      "little\n",
      "found2result(s):\n",
      "1.txt\n",
      "2.txt\n"
     ]
    }
   ],
   "source": [
    "import re\n",
    " \n",
    "class BOWInvertedIndexEngine(SearchEngineBase):\n",
    "    def __init__(self):\n",
    "        super(BOWInvertedIndexEngine, self).__init__()\n",
    "        self.inverted_index = {}\n",
    " \n",
    "    def process_corpus(self, id, text):\n",
    "        words = self.parse_text_to_words(text)\n",
    "        for word in words:\n",
    "            if word not in self.inverted_index:\n",
    "                self.inverted_index[word] = []\n",
    "            self.inverted_index[word].append(id)\n",
    " \n",
    "    def search(self, query):\n",
    "        query_words = list(self.parse_text_to_words(query))\n",
    "        query_words_index = list()\n",
    "        for query_word in query_words:\n",
    "            query_words_index.append(0)\n",
    "        \n",
    "        # 如果某一个查询单词的倒序索引为空，我们就立刻返回\n",
    "        for query_word in query_words:\n",
    "            if query_word not in self.inverted_index:\n",
    "                return []\n",
    "        \n",
    "        result = []\n",
    "        while True:\n",
    "            \n",
    "            # 首先，获得当前状态下所有倒序索引的 index\n",
    "            current_ids = []\n",
    "            \n",
    "            for idx, query_word in enumerate(query_words):\n",
    "                current_index = query_words_index[idx]\n",
    "                current_inverted_list = self.inverted_index[query_word]\n",
    "                \n",
    "                # 已经遍历到了某一个倒序索引的末尾，结束 search\n",
    "                if current_index >= len(current_inverted_list):\n",
    "                    return result\n",
    " \n",
    "                current_ids.append(current_inverted_list[current_index])\n",
    " \n",
    "            # 然后，如果 current_ids 的所有元素都一样，那么表明这个单词在这个元素对应的文档中都出现了\n",
    "            if all(x == current_ids[0] for x in current_ids):\n",
    "                result.append(current_ids[0])\n",
    "                query_words_index = [x + 1 for x in query_words_index]\n",
    "                continue\n",
    "            \n",
    "            # 如果不是，我们就把最小的元素加一\n",
    "            min_val = min(current_ids)\n",
    "            min_val_pos = current_ids.index(min_val)\n",
    "            query_words_index[min_val_pos] += 1\n",
    " \n",
    "    @staticmethod\n",
    "    def parse_text_to_words(text):\n",
    "        # 使用正则表达式去除标点符号和换行符\n",
    "        text = re.sub(r'[^\\w ]', ' ', text)\n",
    "        # 转为小写\n",
    "        text = text.lower()\n",
    "        # 生成所有单词的列表\n",
    "        word_list = text.split(' ')\n",
    "        # 去除空白单词\n",
    "        word_list = filter(None, word_list)\n",
    "        # 返回单词的 set\n",
    "        return set(word_list)\n",
    "\n",
    "    \n",
    "     \n",
    "search_engine = BOWInvertedIndexEngine()\n",
    "main(search_engine) \n"
   ]
  },
  {
   "cell_type": "code",
   "execution_count": null,
   "id": "20dd7b72",
   "metadata": {},
   "outputs": [],
   "source": []
  }
 ],
 "metadata": {
  "kernelspec": {
   "display_name": "Python 3 (ipykernel)",
   "language": "python",
   "name": "python3"
  },
  "language_info": {
   "codemirror_mode": {
    "name": "ipython",
    "version": 3
   },
   "file_extension": ".py",
   "mimetype": "text/x-python",
   "name": "python",
   "nbconvert_exporter": "python",
   "pygments_lexer": "ipython3",
   "version": "3.9.7"
  },
  "toc": {
   "base_numbering": 1,
   "nav_menu": {},
   "number_sections": true,
   "sideBar": true,
   "skip_h1_title": false,
   "title_cell": "Table of Contents",
   "title_sidebar": "Contents",
   "toc_cell": false,
   "toc_position": {
    "height": "calc(100% - 180px)",
    "left": "10px",
    "top": "150px",
    "width": "223px"
   },
   "toc_section_display": true,
   "toc_window_display": true
  },
  "varInspector": {
   "cols": {
    "lenName": 16,
    "lenType": 16,
    "lenVar": 40
   },
   "kernels_config": {
    "python": {
     "delete_cmd_postfix": "",
     "delete_cmd_prefix": "del ",
     "library": "var_list.py",
     "varRefreshCmd": "print(var_dic_list())"
    },
    "r": {
     "delete_cmd_postfix": ") ",
     "delete_cmd_prefix": "rm(",
     "library": "var_list.r",
     "varRefreshCmd": "cat(var_dic_list()) "
    }
   },
   "types_to_exclude": [
    "module",
    "function",
    "builtin_function_or_method",
    "instance",
    "_Feature"
   ],
   "window_display": false
  }
 },
 "nbformat": 4,
 "nbformat_minor": 5
}
