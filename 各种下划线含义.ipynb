{
 "cells": [
  {
   "cell_type": "markdown",
   "id": "01fa6cbe",
   "metadata": {},
   "source": [
    "# __xx__"
   ]
  },
  {
   "cell_type": "markdown",
   "id": "c6b0c118",
   "metadata": {},
   "source": [
    "__xx__代表各种特殊函数"
   ]
  },
  {
   "cell_type": "markdown",
   "id": "359fcc2f",
   "metadata": {},
   "source": [
    "# _xx"
   ]
  },
  {
   "cell_type": "markdown",
   "id": "1ac73acf",
   "metadata": {},
   "source": [
    "单个下划线开头命名的方法或者变量，就是说明它是仅提供内部使用的"
   ]
  },
  {
   "cell_type": "code",
   "execution_count": 1,
   "id": "64974d93",
   "metadata": {},
   "outputs": [],
   "source": [
    "def my_func():\n",
    "    print(\"fxxkpython\")\n",
    "\n",
    "def _my_func():\n",
    "    print(\"fxxkpython\")"
   ]
  },
  {
   "cell_type": "markdown",
   "id": "29714781",
   "metadata": {},
   "source": [
    "# xx_"
   ]
  },
  {
   "cell_type": "markdown",
   "id": "248d54da",
   "metadata": {},
   "source": [
    "如果非要用def, return, class这些名字"
   ]
  },
  {
   "cell_type": "markdown",
   "id": "1822598e",
   "metadata": {},
   "source": [
    "# __xx"
   ]
  },
  {
   "cell_type": "markdown",
   "id": "c8032eef",
   "metadata": {},
   "source": [
    "这种命名的方式更多的是用在类的继承，通过两个下划线开头命名的成员，可以防止被子类重写。"
   ]
  },
  {
   "cell_type": "code",
   "execution_count": 4,
   "id": "3033e784",
   "metadata": {},
   "outputs": [
    {
     "name": "stdout",
     "output_type": "stream",
     "text": [
      "handsome\n"
     ]
    },
    {
     "ename": "AttributeError",
     "evalue": "'Person' object has no attribute '__age'",
     "output_type": "error",
     "traceback": [
      "\u001b[1;31m---------------------------------------------------------------------------\u001b[0m",
      "\u001b[1;31mAttributeError\u001b[0m                            Traceback (most recent call last)",
      "\u001b[1;32m~\\AppData\\Local\\Temp/ipykernel_80556/3154008468.py\u001b[0m in \u001b[0;36m<module>\u001b[1;34m\u001b[0m\n\u001b[0;32m      6\u001b[0m \u001b[0mhandsome\u001b[0m \u001b[1;33m=\u001b[0m \u001b[0mPerson\u001b[0m\u001b[1;33m(\u001b[0m\u001b[1;33m)\u001b[0m\u001b[1;33m\u001b[0m\u001b[1;33m\u001b[0m\u001b[0m\n\u001b[0;32m      7\u001b[0m \u001b[0mprint\u001b[0m\u001b[1;33m(\u001b[0m\u001b[0mhandsome\u001b[0m\u001b[1;33m.\u001b[0m\u001b[0mname\u001b[0m\u001b[1;33m)\u001b[0m\u001b[1;33m\u001b[0m\u001b[1;33m\u001b[0m\u001b[0m\n\u001b[1;32m----> 8\u001b[1;33m \u001b[0mprint\u001b[0m\u001b[1;33m(\u001b[0m\u001b[0mhandsome\u001b[0m\u001b[1;33m.\u001b[0m\u001b[0m__age\u001b[0m\u001b[1;33m)\u001b[0m\u001b[1;33m\u001b[0m\u001b[1;33m\u001b[0m\u001b[0m\n\u001b[0m",
      "\u001b[1;31mAttributeError\u001b[0m: 'Person' object has no attribute '__age'"
     ]
    }
   ],
   "source": [
    "class Person():\n",
    "    def __init__(self):\n",
    "        self.name = \"handsome\"\n",
    "        self.__age = 18\n",
    "\n",
    "handsome = Person()\n",
    "print(handsome.name)\n",
    "print(handsome.__age) #无法直接访问"
   ]
  },
  {
   "cell_type": "code",
   "execution_count": 6,
   "id": "18b587fb",
   "metadata": {},
   "outputs": [
    {
     "name": "stdout",
     "output_type": "stream",
     "text": [
      "18\n"
     ]
    }
   ],
   "source": [
    "print(handsome._Person__age)"
   ]
  },
  {
   "cell_type": "code",
   "execution_count": 7,
   "id": "2dbe3f13",
   "metadata": {},
   "outputs": [],
   "source": [
    "class Son(Person):\n",
    "    def __init__(self):\n",
    "        super().__init__()\n",
    "        self.name = \"hhhh\"\n",
    "        self.__age = 66"
   ]
  },
  {
   "cell_type": "code",
   "execution_count": 11,
   "id": "42b7cd9f",
   "metadata": {},
   "outputs": [
    {
     "name": "stdout",
     "output_type": "stream",
     "text": [
      "hhhh\n"
     ]
    },
    {
     "ename": "AttributeError",
     "evalue": "'Son' object has no attribute '__age'",
     "output_type": "error",
     "traceback": [
      "\u001b[1;31m---------------------------------------------------------------------------\u001b[0m",
      "\u001b[1;31mAttributeError\u001b[0m                            Traceback (most recent call last)",
      "\u001b[1;32m~\\AppData\\Local\\Temp/ipykernel_80556/851530647.py\u001b[0m in \u001b[0;36m<module>\u001b[1;34m\u001b[0m\n\u001b[0;32m      1\u001b[0m \u001b[0mp\u001b[0m  \u001b[1;33m=\u001b[0m\u001b[0mSon\u001b[0m\u001b[1;33m(\u001b[0m\u001b[1;33m)\u001b[0m\u001b[1;33m\u001b[0m\u001b[1;33m\u001b[0m\u001b[0m\n\u001b[0;32m      2\u001b[0m \u001b[0mprint\u001b[0m\u001b[1;33m(\u001b[0m\u001b[0mp\u001b[0m\u001b[1;33m.\u001b[0m\u001b[0mname\u001b[0m\u001b[1;33m)\u001b[0m\u001b[1;33m\u001b[0m\u001b[1;33m\u001b[0m\u001b[0m\n\u001b[1;32m----> 3\u001b[1;33m \u001b[0mprint\u001b[0m\u001b[1;33m(\u001b[0m\u001b[0mp\u001b[0m\u001b[1;33m.\u001b[0m\u001b[0m__age\u001b[0m\u001b[1;33m)\u001b[0m\u001b[1;33m\u001b[0m\u001b[1;33m\u001b[0m\u001b[0m\n\u001b[0m\u001b[0;32m      4\u001b[0m \u001b[0mprint\u001b[0m\u001b[1;33m(\u001b[0m\u001b[0mp\u001b[0m\u001b[1;33m.\u001b[0m\u001b[0m__dir__\u001b[0m\u001b[1;33m)\u001b[0m\u001b[1;33m\u001b[0m\u001b[1;33m\u001b[0m\u001b[0m\n",
      "\u001b[1;31mAttributeError\u001b[0m: 'Son' object has no attribute '__age'"
     ]
    }
   ],
   "source": [
    "p  =Son()\n",
    "print(p.name)\n",
    "print(p.__age) \n"
   ]
  },
  {
   "cell_type": "code",
   "execution_count": 13,
   "id": "334c4051",
   "metadata": {},
   "outputs": [
    {
     "name": "stdout",
     "output_type": "stream",
     "text": [
      "['name', '_Person__age', '_Son__age', '__module__', '__init__', '__doc__', '__dict__', '__weakref__', '__repr__', '__hash__', '__str__', '__getattribute__', '__setattr__', '__delattr__', '__lt__', '__le__', '__eq__', '__ne__', '__gt__', '__ge__', '__new__', '__reduce_ex__', '__reduce__', '__subclasshook__', '__init_subclass__', '__format__', '__sizeof__', '__dir__', '__class__']\n"
     ]
    }
   ],
   "source": [
    "print(p.__dir__())"
   ]
  },
  {
   "cell_type": "markdown",
   "id": "96046f0b",
   "metadata": {},
   "source": [
    "son的age已经变成了_Son_age"
   ]
  },
  {
   "cell_type": "code",
   "execution_count": 14,
   "id": "1684b064",
   "metadata": {},
   "outputs": [
    {
     "name": "stdout",
     "output_type": "stream",
     "text": [
      "66\n"
     ]
    }
   ],
   "source": [
    "print(p._Son__age)"
   ]
  },
  {
   "cell_type": "markdown",
   "id": "7d4c5a85",
   "metadata": {},
   "source": [
    "# _classname__xx"
   ]
  },
  {
   "cell_type": "code",
   "execution_count": 16,
   "id": "c3396f71",
   "metadata": {},
   "outputs": [
    {
     "name": "stdout",
     "output_type": "stream",
     "text": [
      "handsome\n"
     ]
    }
   ],
   "source": [
    "_Person__name = \"handsome\"\n",
    "\n",
    "class Person():\n",
    "    def print_name(self):\n",
    "        return __name\n",
    "    \n",
    "k = Person()\n",
    "print(k.print_name())"
   ]
  },
  {
   "cell_type": "code",
   "execution_count": null,
   "id": "69b00149",
   "metadata": {},
   "outputs": [],
   "source": []
  }
 ],
 "metadata": {
  "kernelspec": {
   "display_name": "Python 3 (ipykernel)",
   "language": "python",
   "name": "python3"
  },
  "language_info": {
   "codemirror_mode": {
    "name": "ipython",
    "version": 3
   },
   "file_extension": ".py",
   "mimetype": "text/x-python",
   "name": "python",
   "nbconvert_exporter": "python",
   "pygments_lexer": "ipython3",
   "version": "3.9.7"
  },
  "toc": {
   "base_numbering": 1,
   "nav_menu": {},
   "number_sections": true,
   "sideBar": true,
   "skip_h1_title": false,
   "title_cell": "Table of Contents",
   "title_sidebar": "Contents",
   "toc_cell": false,
   "toc_position": {},
   "toc_section_display": true,
   "toc_window_display": false
  },
  "varInspector": {
   "cols": {
    "lenName": 16,
    "lenType": 16,
    "lenVar": 40
   },
   "kernels_config": {
    "python": {
     "delete_cmd_postfix": "",
     "delete_cmd_prefix": "del ",
     "library": "var_list.py",
     "varRefreshCmd": "print(var_dic_list())"
    },
    "r": {
     "delete_cmd_postfix": ") ",
     "delete_cmd_prefix": "rm(",
     "library": "var_list.r",
     "varRefreshCmd": "cat(var_dic_list()) "
    }
   },
   "types_to_exclude": [
    "module",
    "function",
    "builtin_function_or_method",
    "instance",
    "_Feature"
   ],
   "window_display": false
  }
 },
 "nbformat": 4,
 "nbformat_minor": 5
}
